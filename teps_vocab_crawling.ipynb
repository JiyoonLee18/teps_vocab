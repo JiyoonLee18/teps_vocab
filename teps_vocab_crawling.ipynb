{
 "cells": [
  {
   "cell_type": "markdown",
   "id": "48b33639",
   "metadata": {},
   "source": [
    "# teps 단어장 크롤링\n",
    "- https://consulteps.com/myclass/page_group?pg_idx=11&utm_source=free&utm_medium=online_voca&utm_campaign=home_link"
   ]
  },
  {
   "cell_type": "code",
   "execution_count": null,
   "id": "7d7b48c8",
   "metadata": {},
   "outputs": [],
   "source": [
    "# pip install pyperclip"
   ]
  },
  {
   "cell_type": "code",
   "execution_count": null,
   "id": "6e9fb929",
   "metadata": {},
   "outputs": [],
   "source": [
    "from selenium import webdriver\n",
    "from bs4 import BeautifulSoup\n",
    "import pandas as pd\n",
    "from selenium.webdriver.common.keys import Keys\n",
    "from selenium.webdriver.common.by import By\n",
    "import time\n",
    "import pyperclip\n",
    "from tqdm import tqdm"
   ]
  },
  {
   "cell_type": "code",
   "execution_count": null,
   "id": "8ab705db",
   "metadata": {},
   "outputs": [],
   "source": [
    "# 네이버 아이디, 패스워드 입력\n",
    "id_value=input(\"네이버 id를 입력해주세요: \")\n",
    "pw_value=input(\"네이버 pw를 입력해주세요: \")\n",
    "\n",
    "# 셀레니움 시작\n",
    "driver=webdriver.Chrome()\n",
    "url=\"https://consulteps.com/myclass/page_group?pg_idx=11&utm_source=free&utm_medium=online_voca&utm_campaign=home_link\"\n",
    "driver.get(url)\n",
    "\n",
    "# 네이버 클릭\n",
    "driver.find_element(By.XPATH,'/html/body/div[1]/div/ul/li[1]/a').click()\n",
    "driver.switch_to.window(driver.window_handles[1])\n",
    "\n",
    "# 자신의 id, pw 입력\n",
    "id_value=id_value\n",
    "pw_value=pw_value\n",
    "\n",
    "# id, pw값 전달, 입력\n",
    "id_box = driver.find_element(By.ID, value=\"id\")\n",
    "id_box.click()\n",
    "pyperclip.copy(id_value)\n",
    "id_box.send_keys(Keys.CONTROL, 'v')\n",
    "time.sleep(0.5)\n",
    "pw_box = driver.find_element(By.ID, value=\"pw\")\n",
    "pw_box.click()\n",
    "pyperclip.copy(pw_value)\n",
    "pw_box.send_keys(Keys.CONTROL, 'v')\n",
    "time.sleep(0.5)\n",
    "\n",
    "driver.find_element(By.XPATH,'//*[@id=\"log.login\"]').click()\n",
    "time.sleep(0.5)\n",
    "driver.switch_to.window(driver.window_handles[1])\n",
    "\n",
    "# 새로운 기기 브라우저에서 로그인 -> 등록안함\n",
    "driver.find_element(By.XPATH,'//*[@id=\"new.dontsave\"]').click()\n",
    "driver.switch_to.window(driver.window_handles[0])\n",
    "\n",
    "time.sleep(0.5)\n",
    "\n",
    "# html가져오기\n",
    "html = driver.page_source\n",
    "soup = BeautifulSoup(html, 'html.parser')\n",
    "pages=soup.select('.list>li')\n",
    "pages=pages[:-4] #순위 아닌 데이터 제거, 2023년 3월 1일 기준 58개\n",
    "\n",
    "root_url=\"https://consulteps.com/\"\n",
    "url_list=[]\n",
    "for i in range(0, len(pages)):\n",
    "    title=pages[i].select('a')[0].text\n",
    "    url=pages[i].select('a')[0]['href']\n",
    "    url=root_url+url\n",
    "    url_list.append([title, url])\n",
    "url_df=pd.DataFrame(url_list)\n",
    "url_df.columns=['rank','url']\n",
    "\n",
    "# 한 페이지씩 접속\n",
    "url_list=list(url_df['url'])\n",
    "rank_list=list(url_df['rank'])\n",
    "word_df=pd.DataFrame()\n",
    "for a in tqdm(range(len(url_list))):\n",
    "    url=url_list[a]\n",
    "    driver.get(url)\n",
    "    html = driver.page_source\n",
    "    soup = BeautifulSoup(html, 'html.parser')\n",
    "    words=soup.select('li.tit')\n",
    "    word_list=[]\n",
    "    for i in range(len(words)):\n",
    "        eng=words[i].select('span')[0].text\n",
    "        kor=words[i].select('span')[1].text\n",
    "        word_list.append([eng, kor])\n",
    "    word_tmp=pd.DataFrame(word_list)\n",
    "    word_tmp['rank']=rank_list[a] #몇 순위 인지 표시\n",
    "    word_df=pd.concat([word_df, word_tmp])\n",
    "    time.sleep(1)\n",
    "    \n",
    "# 컬럼명 수정 및 인덱스 리셋\n",
    "word_df.columns=['eng','kor','rank']\n",
    "word_df.reset_index(inplace=True, drop=True)\n",
    "word_df['rank']=word_df['rank'].apply(lambda x:str(x).split(' ')[2])\n",
    "word_df=word_df[['rank','eng','kor']]"
   ]
  },
  {
   "cell_type": "code",
   "execution_count": null,
   "id": "58f44d69",
   "metadata": {},
   "outputs": [],
   "source": [
    "word_df.to_excel('teps단어장.xlsx') #인덱스 포함"
   ]
  }
 ],
 "metadata": {
  "kernelspec": {
   "display_name": "Python 3 (ipykernel)",
   "language": "python",
   "name": "python3"
  },
  "language_info": {
   "codemirror_mode": {
    "name": "ipython",
    "version": 3
   },
   "file_extension": ".py",
   "mimetype": "text/x-python",
   "name": "python",
   "nbconvert_exporter": "python",
   "pygments_lexer": "ipython3",
   "version": "3.9.12"
  },
  "toc": {
   "base_numbering": 1,
   "nav_menu": {},
   "number_sections": true,
   "sideBar": true,
   "skip_h1_title": false,
   "title_cell": "Table of Contents",
   "title_sidebar": "Contents",
   "toc_cell": false,
   "toc_position": {},
   "toc_section_display": true,
   "toc_window_display": false
  }
 },
 "nbformat": 4,
 "nbformat_minor": 5
}
